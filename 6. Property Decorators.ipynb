{
 "cells": [
  {
   "cell_type": "markdown",
   "metadata": {},
   "source": [
    "# Property Decorators"
   ]
  },
  {
   "cell_type": "markdown",
   "metadata": {},
   "source": [
    "### getters"
   ]
  },
  {
   "cell_type": "code",
   "execution_count": 5,
   "metadata": {},
   "outputs": [
    {
     "name": "stdout",
     "output_type": "stream",
     "text": [
      "elon.musk@spacex.com\n",
      "elon musk\n",
      "sbi.raj@spacex.com\n",
      "sbi raj\n"
     ]
    }
   ],
   "source": [
    "class Employee:\n",
    "    \n",
    "    def __init__(self, first, last, pay):\n",
    "        self.first = first\n",
    "        self.last = last\n",
    "    \n",
    "    @property   \n",
    "    def fullName(self):\n",
    "        return '{} {}'.format(self.first, self.last)\n",
    "    \n",
    "    @property\n",
    "    def email(self):\n",
    "        return '{}.{}@spacex.com'.format(self.first, self.last)\n",
    "    \n",
    "emp_1 = Employee('elon', 'musk', 2000)\n",
    "emp_2 = Employee('sbi', 'raj', 1000)\n",
    "\n",
    "print(emp_1.email)\n",
    "print(emp_1.fullName)\n",
    "\n",
    "print(emp_2.email)\n",
    "print(emp_2.fullName)\n"
   ]
  },
  {
   "cell_type": "markdown",
   "metadata": {},
   "source": [
    "### setters"
   ]
  },
  {
   "cell_type": "code",
   "execution_count": 8,
   "metadata": {},
   "outputs": [
    {
     "name": "stdout",
     "output_type": "stream",
     "text": [
      "sabita.rajbanshi@spacex.com\n",
      "sabita rajbanshi\n",
      "sbi raj\n"
     ]
    }
   ],
   "source": [
    "class Employee:\n",
    "    \n",
    "    def __init__(self, first, last, pay):\n",
    "        self.first = first\n",
    "        self.last = last\n",
    "    \n",
    "    @property   \n",
    "    def fullName(self):\n",
    "        return '{} {}'.format(self.first, self.last)\n",
    "    \n",
    "    @property\n",
    "    def email(self):\n",
    "        return '{}.{}@spacex.com'.format(self.first, self.last)\n",
    "    \n",
    "    @fullName.setter\n",
    "    def fullName(self, name):\n",
    "        first, last = name.split(' ')\n",
    "        self.first = first\n",
    "        self.last = last\n",
    "    \n",
    "emp_1 = Employee('elon', 'musk', 2000)\n",
    "emp_2 = Employee('sbi', 'raj', 1000)\n",
    "\n",
    "emp_1.fullName = 'sabita rajbanshi'\n",
    "\n",
    "print(emp_1.email)\n",
    "print(emp_1.fullName)\n",
    "print(emp_2.fullName)\n"
   ]
  },
  {
   "cell_type": "markdown",
   "metadata": {},
   "source": [
    "### deleters"
   ]
  },
  {
   "cell_type": "code",
   "execution_count": 12,
   "metadata": {},
   "outputs": [
    {
     "name": "stdout",
     "output_type": "stream",
     "text": [
      "sabita rajbanshi\n",
      "sabita.rajbanshi@spacex.com\n",
      "Delete Name!\n"
     ]
    }
   ],
   "source": [
    "class Employee:\n",
    "    \n",
    "    def __init__(self, first, last, pay):\n",
    "        self.first = first\n",
    "        self.last = last\n",
    "    \n",
    "    @property   \n",
    "    def fullName(self):\n",
    "        return '{} {}'.format(self.first, self.last)\n",
    "    \n",
    "    @property\n",
    "    def email(self):\n",
    "        return '{}.{}@spacex.com'.format(self.first, self.last)\n",
    "    \n",
    "    @fullName.setter\n",
    "    def fullName(self, name):\n",
    "        first, last = name.split(' ')\n",
    "        self.first = first\n",
    "        self.last = last\n",
    "    \n",
    "    @fullName.deleter\n",
    "    def fullName(self):\n",
    "        print('Delete Name!')\n",
    "        self.first = None\n",
    "        self.last = None\n",
    "    \n",
    "emp_1 = Employee('elon', 'musk', 2000)\n",
    "\n",
    "emp_1.fullName = 'sabita rajbanshi'\n",
    "\n",
    "print(emp_1.fullName)\n",
    "print(emp_1.email)\n",
    "\n",
    "del emp_1.fullName\n"
   ]
  },
  {
   "cell_type": "code",
   "execution_count": null,
   "metadata": {},
   "outputs": [],
   "source": []
  }
 ],
 "metadata": {
  "kernelspec": {
   "display_name": "Python 3",
   "language": "python",
   "name": "python3"
  },
  "language_info": {
   "codemirror_mode": {
    "name": "ipython",
    "version": 3
   },
   "file_extension": ".py",
   "mimetype": "text/x-python",
   "name": "python",
   "nbconvert_exporter": "python",
   "pygments_lexer": "ipython3",
   "version": "3.8.3"
  }
 },
 "nbformat": 4,
 "nbformat_minor": 4
}
