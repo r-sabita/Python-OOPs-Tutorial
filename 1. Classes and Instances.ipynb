{
 "cells": [
  {
   "cell_type": "markdown",
   "metadata": {},
   "source": [
    "## Class"
   ]
  },
  {
   "cell_type": "markdown",
   "metadata": {},
   "source": [
    "* Class = Employee\n",
    "\n",
    "* Attribute = first_name, last_name, salary, email \n",
    "\n",
    "* with different methods"
   ]
  },
  {
   "cell_type": "code",
   "execution_count": 7,
   "metadata": {},
   "outputs": [
    {
     "name": "stdout",
     "output_type": "stream",
     "text": [
      "elooon\n",
      "100000000000\n",
      "elooon.musk@spacex.com\n",
      "sbi raj\n",
      "sbi.raj@spacex.com\n"
     ]
    },
    {
     "data": {
      "text/plain": [
       "'elooon musk'"
      ]
     },
     "execution_count": 7,
     "metadata": {},
     "output_type": "execute_result"
    }
   ],
   "source": [
    "class Employee:\n",
    "    def __init__(self, first, last, pay):\n",
    "        self.first = first\n",
    "        self.last = last\n",
    "        self.pay = pay\n",
    "        self.email = first + '.' + last + '@spacex.com'\n",
    "        \n",
    "    def fullName(self):\n",
    "        return '{} {}'.format(self.first, self.last)\n",
    "    \n",
    "    \n",
    "emp_1 = Employee('elooon', 'musk', 100000000000)\n",
    "emp_2 = Employee('sbi', 'raj', 1000000)\n",
    "\n",
    "print(emp_1.first)\n",
    "print(emp_1.pay)\n",
    "print(emp_1.email)\n",
    "\n",
    "print(emp_2.fullName())\n",
    "print(emp_2.email)\n",
    "\n",
    "Employee.fullName(emp_1)"
   ]
  }
 ],
 "metadata": {
  "kernelspec": {
   "display_name": "Python 3",
   "language": "python",
   "name": "python3"
  },
  "language_info": {
   "codemirror_mode": {
    "name": "ipython",
    "version": 3
   },
   "file_extension": ".py",
   "mimetype": "text/x-python",
   "name": "python",
   "nbconvert_exporter": "python",
   "pygments_lexer": "ipython3",
   "version": "3.8.3"
  }
 },
 "nbformat": 4,
 "nbformat_minor": 4
}
